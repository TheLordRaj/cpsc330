{
 "cells": [
  {
   "cell_type": "code",
   "execution_count": 2,
   "id": "cfb099ce-aa99-4fb3-bd6a-148a31215c87",
   "metadata": {},
   "outputs": [],
   "source": [
    "import numpy as np \n",
    "np.random.seed(42) # for reproducibility"
   ]
  },
  {
   "cell_type": "code",
   "execution_count": 3,
   "id": "1f601f83-d429-419b-bc7e-dbc4fbceae31",
   "metadata": {},
   "outputs": [
    {
     "ename": "SyntaxError",
     "evalue": "invalid syntax (481994501.py, line 9)",
     "output_type": "error",
     "traceback": [
      "\u001b[0;36m  Input \u001b[0;32mIn [3]\u001b[0;36m\u001b[0m\n\u001b[0;31m    view raw\u001b[0m\n\u001b[0m         ^\u001b[0m\n\u001b[0;31mSyntaxError\u001b[0m\u001b[0;31m:\u001b[0m invalid syntax\n"
     ]
    }
   ],
   "source": [
    "# Make sure X and y are linearly correlated with normally distributed noise\n",
    "\n",
    "n = 10000 # 10000 datum points\n",
    "X = np.random.uniform(-10,10, n) \n",
    "noise = np.random.normal(0, 3, n) # Gaussian distribution\n",
    "true_w, true_b = 7.6, -3.3\n",
    "\n",
    "y = true_w * X + true_b # y = w * x + b + ε"
   ]
  },
  {
   "cell_type": "code",
   "execution_count": null,
   "id": "cc492fe6-cfdb-477f-b9af-0614ba1385f7",
   "metadata": {},
   "outputs": [],
   "source": []
  }
 ],
 "metadata": {
  "kernelspec": {
   "display_name": "Python [conda env:cpsc330]",
   "language": "python",
   "name": "conda-env-cpsc330-py"
  },
  "language_info": {
   "codemirror_mode": {
    "name": "ipython",
    "version": 3
   },
   "file_extension": ".py",
   "mimetype": "text/x-python",
   "name": "python",
   "nbconvert_exporter": "python",
   "pygments_lexer": "ipython3",
   "version": "3.10.6"
  }
 },
 "nbformat": 4,
 "nbformat_minor": 5
}
